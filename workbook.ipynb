{
 "cells": [
  {
   "cell_type": "markdown",
   "metadata": {},
   "source": [
    "# Machine Learning Tutorial\n",
    "- GDSO pre-workshop, July 2019\n",
    "- Instructor: [Everett Wetchler](https://github.com/wetchler)"
   ]
  },
  {
   "cell_type": "markdown",
   "metadata": {},
   "source": [
    "## Predicting country-level happiness from development indicators\n",
    "\n",
    "Datasets:\n",
    "1. Country-level happiness data\n",
    "  * Reusing from [Wednesday's tutorial](https://github.com/wetchler/pandas), which comes from Gallup via _Our World in Data_ [here](https://ourworldindata.org/happiness-and-life-satisfaction)\n",
    "  * `data/happiness.csv`\n",
    "1. Development indicators for each country (gdp, mortality, education, etc), measured roughly around 2014\n",
    "  * From [this Kaggle dataset](https://www.kaggle.com/joniarroba/65-world-indexes-gathered)\n",
    "  * `data/world_indicators.csv`\n",
    "  * NOTE: in a serious research project we wouldn't use the data from Kaggle, we'd get to the original sources' publications.\n",
    "\n",
    "To keep this tutorial focused, I've pre-cleaned and merged these for you\n",
    "  * **The final file is `data/merged.csv`**\n",
    "  * See `data_cleaning.ipynb` for the code that produced this. A good second practice exercise in pandas!"
   ]
  },
  {
   "cell_type": "markdown",
   "metadata": {},
   "source": [
    "## 0. Import all your stuff"
   ]
  },
  {
   "cell_type": "code",
   "execution_count": 1,
   "metadata": {},
   "outputs": [],
   "source": [
    "%matplotlib inline"
   ]
  },
  {
   "cell_type": "code",
   "execution_count": 2,
   "metadata": {},
   "outputs": [],
   "source": [
    "# Import the usual suspects in the usual way\n",
    "import matplotlib.pyplot as plt\n",
    "import numpy as np\n",
    "import pandas as pd\n",
    "import seaborn as sns"
   ]
  },
  {
   "cell_type": "markdown",
   "metadata": {},
   "source": [
    "## 1. Load your data"
   ]
  },
  {
   "cell_type": "code",
   "execution_count": 3,
   "metadata": {},
   "outputs": [
    {
     "name": "stdout",
     "output_type": "stream",
     "text": [
      "(155, 7)\n"
     ]
    },
    {
     "data": {
      "text/html": [
       "<div>\n",
       "<style scoped>\n",
       "    .dataframe tbody tr th:only-of-type {\n",
       "        vertical-align: middle;\n",
       "    }\n",
       "\n",
       "    .dataframe tbody tr th {\n",
       "        vertical-align: top;\n",
       "    }\n",
       "\n",
       "    .dataframe thead th {\n",
       "        text-align: right;\n",
       "    }\n",
       "</style>\n",
       "<table border=\"1\" class=\"dataframe\">\n",
       "  <thead>\n",
       "    <tr style=\"text-align: right;\">\n",
       "      <th></th>\n",
       "      <th>happiness</th>\n",
       "      <th>mortality_under5_per_1k</th>\n",
       "      <th>log_gdp_per_capita</th>\n",
       "      <th>gini_percent</th>\n",
       "      <th>education_expected</th>\n",
       "      <th>taxes_percent_gdp</th>\n",
       "      <th>co2_per_capita</th>\n",
       "    </tr>\n",
       "    <tr>\n",
       "      <th>country</th>\n",
       "      <th></th>\n",
       "      <th></th>\n",
       "      <th></th>\n",
       "      <th></th>\n",
       "      <th></th>\n",
       "      <th></th>\n",
       "      <th></th>\n",
       "    </tr>\n",
       "  </thead>\n",
       "  <tbody>\n",
       "    <tr>\n",
       "      <th>Afghanistan</th>\n",
       "      <td>3.898032</td>\n",
       "      <td>97.3</td>\n",
       "      <td>3.275026</td>\n",
       "      <td>27.820000</td>\n",
       "      <td>9.27439</td>\n",
       "      <td>7.471639</td>\n",
       "      <td>0.420933</td>\n",
       "    </tr>\n",
       "    <tr>\n",
       "      <th>Albania</th>\n",
       "      <td>5.092158</td>\n",
       "      <td>14.9</td>\n",
       "      <td>4.017257</td>\n",
       "      <td>28.960000</td>\n",
       "      <td>11.82000</td>\n",
       "      <td>19.630699</td>\n",
       "      <td>1.607038</td>\n",
       "    </tr>\n",
       "    <tr>\n",
       "      <th>Algeria</th>\n",
       "      <td>5.685064</td>\n",
       "      <td>25.2</td>\n",
       "      <td>4.110352</td>\n",
       "      <td>38.816667</td>\n",
       "      <td>13.96534</td>\n",
       "      <td>37.361849</td>\n",
       "      <td>3.224202</td>\n",
       "    </tr>\n",
       "    <tr>\n",
       "      <th>Angola</th>\n",
       "      <td>4.420299</td>\n",
       "      <td>167.4</td>\n",
       "      <td>3.874367</td>\n",
       "      <td>42.660000</td>\n",
       "      <td>11.39000</td>\n",
       "      <td>18.836676</td>\n",
       "      <td>1.472216</td>\n",
       "    </tr>\n",
       "    <tr>\n",
       "      <th>Argentina</th>\n",
       "      <td>6.440702</td>\n",
       "      <td>13.3</td>\n",
       "      <td>4.361389</td>\n",
       "      <td>43.570000</td>\n",
       "      <td>17.94733</td>\n",
       "      <td>14.483361</td>\n",
       "      <td>4.665869</td>\n",
       "    </tr>\n",
       "  </tbody>\n",
       "</table>\n",
       "</div>"
      ],
      "text/plain": [
       "             happiness  mortality_under5_per_1k  log_gdp_per_capita  \\\n",
       "country                                                               \n",
       "Afghanistan   3.898032                     97.3            3.275026   \n",
       "Albania       5.092158                     14.9            4.017257   \n",
       "Algeria       5.685064                     25.2            4.110352   \n",
       "Angola        4.420299                    167.4            3.874367   \n",
       "Argentina     6.440702                     13.3            4.361389   \n",
       "\n",
       "             gini_percent  education_expected  taxes_percent_gdp  \\\n",
       "country                                                            \n",
       "Afghanistan     27.820000             9.27439           7.471639   \n",
       "Albania         28.960000            11.82000          19.630699   \n",
       "Algeria         38.816667            13.96534          37.361849   \n",
       "Angola          42.660000            11.39000          18.836676   \n",
       "Argentina       43.570000            17.94733          14.483361   \n",
       "\n",
       "             co2_per_capita  \n",
       "country                      \n",
       "Afghanistan        0.420933  \n",
       "Albania            1.607038  \n",
       "Algeria            3.224202  \n",
       "Angola             1.472216  \n",
       "Argentina          4.665869  "
      ]
     },
     "execution_count": 3,
     "metadata": {},
     "output_type": "execute_result"
    }
   ],
   "source": [
    "df = pd.read_csv('data/merged.csv', index_col='country')\n",
    "print(df.shape)\n",
    "df.head()"
   ]
  },
  {
   "cell_type": "markdown",
   "metadata": {},
   "source": [
    "### About these columns\n",
    "These are renamed slightly from their original form (see `data_cleaning.ipynb`), but in brief:\n",
    "- `happiness`: average life staisfaction score in the country, from the Cantril Ladder question (0-10 scale)\n",
    "- `mortality_under5_per_1k`: For every 1000 children born in the country, how many die before age 5?\n",
    "- `log_gdp_per_capita`: What it sounds like. Remember from Wednesday that the log of GDP-per-capita (think of it as \"number of digits in the GDP per capita\") was more correlated with happiness than raw GDP per capita.\n",
    "- `gini_percent`: This is a measure of wealth inequality. A value of 0 is the *most equal* with every citizen having the exact same wealth. A value of 1 is the *most unequal* with one person having all the wealth and everyone else having nothing.\n",
    "- `education_expected`: If a child is born today, how many years of education do we expect them to complete in their lifetime?\n",
    "- `taxes_percent_gdp`: Higher numbers = higher taxes in the country. If you take all the money the government collects in taxes, and divide it by the total GDP, you get this value.\n",
    "- `co2_per_capita`: Annual CO2 emissions, per person, per year. In tons."
   ]
  },
  {
   "cell_type": "markdown",
   "metadata": {},
   "source": [
    "### Let's sneak a peak at the correlations among these\n",
    "Normally we'd do this in an \"exploratory data analysis\" step (between cleaning and modelling), but we'll look here to build some intuition on what is (and isn't) going on."
   ]
  },
  {
   "cell_type": "code",
   "execution_count": 4,
   "metadata": {},
   "outputs": [
    {
     "data": {
      "text/html": [
       "<div>\n",
       "<style scoped>\n",
       "    .dataframe tbody tr th:only-of-type {\n",
       "        vertical-align: middle;\n",
       "    }\n",
       "\n",
       "    .dataframe tbody tr th {\n",
       "        vertical-align: top;\n",
       "    }\n",
       "\n",
       "    .dataframe thead th {\n",
       "        text-align: right;\n",
       "    }\n",
       "</style>\n",
       "<table border=\"1\" class=\"dataframe\">\n",
       "  <thead>\n",
       "    <tr style=\"text-align: right;\">\n",
       "      <th></th>\n",
       "      <th>happiness</th>\n",
       "      <th>mortality_under5_per_1k</th>\n",
       "      <th>log_gdp_per_capita</th>\n",
       "      <th>gini_percent</th>\n",
       "      <th>education_expected</th>\n",
       "      <th>taxes_percent_gdp</th>\n",
       "      <th>co2_per_capita</th>\n",
       "    </tr>\n",
       "  </thead>\n",
       "  <tbody>\n",
       "    <tr>\n",
       "      <th>happiness</th>\n",
       "      <td>1.000000</td>\n",
       "      <td>-0.669621</td>\n",
       "      <td>0.824887</td>\n",
       "      <td>-0.266532</td>\n",
       "      <td>0.729968</td>\n",
       "      <td>0.082620</td>\n",
       "      <td>0.530313</td>\n",
       "    </tr>\n",
       "    <tr>\n",
       "      <th>mortality_under5_per_1k</th>\n",
       "      <td>-0.669621</td>\n",
       "      <td>1.000000</td>\n",
       "      <td>-0.776690</td>\n",
       "      <td>0.344661</td>\n",
       "      <td>-0.782372</td>\n",
       "      <td>-0.069006</td>\n",
       "      <td>-0.441034</td>\n",
       "    </tr>\n",
       "    <tr>\n",
       "      <th>log_gdp_per_capita</th>\n",
       "      <td>0.824887</td>\n",
       "      <td>-0.776690</td>\n",
       "      <td>1.000000</td>\n",
       "      <td>-0.384897</td>\n",
       "      <td>0.825605</td>\n",
       "      <td>0.052684</td>\n",
       "      <td>0.674006</td>\n",
       "    </tr>\n",
       "    <tr>\n",
       "      <th>gini_percent</th>\n",
       "      <td>-0.266532</td>\n",
       "      <td>0.344661</td>\n",
       "      <td>-0.384897</td>\n",
       "      <td>1.000000</td>\n",
       "      <td>-0.326557</td>\n",
       "      <td>0.157847</td>\n",
       "      <td>-0.378260</td>\n",
       "    </tr>\n",
       "    <tr>\n",
       "      <th>education_expected</th>\n",
       "      <td>0.729968</td>\n",
       "      <td>-0.782372</td>\n",
       "      <td>0.825605</td>\n",
       "      <td>-0.326557</td>\n",
       "      <td>1.000000</td>\n",
       "      <td>0.167329</td>\n",
       "      <td>0.459606</td>\n",
       "    </tr>\n",
       "    <tr>\n",
       "      <th>taxes_percent_gdp</th>\n",
       "      <td>0.082620</td>\n",
       "      <td>-0.069006</td>\n",
       "      <td>0.052684</td>\n",
       "      <td>0.157847</td>\n",
       "      <td>0.167329</td>\n",
       "      <td>1.000000</td>\n",
       "      <td>-0.049659</td>\n",
       "    </tr>\n",
       "    <tr>\n",
       "      <th>co2_per_capita</th>\n",
       "      <td>0.530313</td>\n",
       "      <td>-0.441034</td>\n",
       "      <td>0.674006</td>\n",
       "      <td>-0.378260</td>\n",
       "      <td>0.459606</td>\n",
       "      <td>-0.049659</td>\n",
       "      <td>1.000000</td>\n",
       "    </tr>\n",
       "  </tbody>\n",
       "</table>\n",
       "</div>"
      ],
      "text/plain": [
       "                         happiness  mortality_under5_per_1k  \\\n",
       "happiness                 1.000000                -0.669621   \n",
       "mortality_under5_per_1k  -0.669621                 1.000000   \n",
       "log_gdp_per_capita        0.824887                -0.776690   \n",
       "gini_percent             -0.266532                 0.344661   \n",
       "education_expected        0.729968                -0.782372   \n",
       "taxes_percent_gdp         0.082620                -0.069006   \n",
       "co2_per_capita            0.530313                -0.441034   \n",
       "\n",
       "                         log_gdp_per_capita  gini_percent  education_expected  \\\n",
       "happiness                          0.824887     -0.266532            0.729968   \n",
       "mortality_under5_per_1k           -0.776690      0.344661           -0.782372   \n",
       "log_gdp_per_capita                 1.000000     -0.384897            0.825605   \n",
       "gini_percent                      -0.384897      1.000000           -0.326557   \n",
       "education_expected                 0.825605     -0.326557            1.000000   \n",
       "taxes_percent_gdp                  0.052684      0.157847            0.167329   \n",
       "co2_per_capita                     0.674006     -0.378260            0.459606   \n",
       "\n",
       "                         taxes_percent_gdp  co2_per_capita  \n",
       "happiness                         0.082620        0.530313  \n",
       "mortality_under5_per_1k          -0.069006       -0.441034  \n",
       "log_gdp_per_capita                0.052684        0.674006  \n",
       "gini_percent                      0.157847       -0.378260  \n",
       "education_expected                0.167329        0.459606  \n",
       "taxes_percent_gdp                 1.000000       -0.049659  \n",
       "co2_per_capita                   -0.049659        1.000000  "
      ]
     },
     "execution_count": 4,
     "metadata": {},
     "output_type": "execute_result"
    }
   ],
   "source": [
    "# Fast way to generate a correlation matrix\n",
    "df.corr()\n",
    "\n",
    "# Interesting... what do you see?"
   ]
  },
  {
   "cell_type": "markdown",
   "metadata": {},
   "source": [
    "### Some terminology\n",
    "* `happiness` is our **target variable** -- the one we want to predict\n",
    "* The others are our **features**, or **predictor variables**, that we use to predict the target\n",
    "* `sklearn` is our main machine learning library, short for [sci-kit learn](https://scikit-learn.org/stable/documentation.html)"
   ]
  },
  {
   "cell_type": "markdown",
   "metadata": {},
   "source": [
    "## 2. Make design matrices\n",
    "* Make our \"feature matrix\" (everything but the target variable), traditionally named capital `X`\n",
    "* Make our target column (just the target variable for each row), traditionally named `y`"
   ]
  },
  {
   "cell_type": "code",
   "execution_count": 5,
   "metadata": {},
   "outputs": [],
   "source": [
    "# Make our \"feature matrix\" (everything but the target variable)\n",
    "X = df.drop(columns='happiness')\n",
    "# Make our target column (just the target variable for each row)\n",
    "y = df['happiness']"
   ]
  },
  {
   "cell_type": "markdown",
   "metadata": {},
   "source": [
    "## 3. 'Fit' the model\n",
    "\n",
    "The library under the hood does all the hard work"
   ]
  },
  {
   "cell_type": "code",
   "execution_count": 6,
   "metadata": {},
   "outputs": [],
   "source": [
    "# Normally we'd import this at the top with the others,\n",
    "# but for education's sake I'm importing things closer\n",
    "# to the code that uses them.\n",
    "\n",
    "from sklearn.linear_model import LinearRegression"
   ]
  },
  {
   "cell_type": "code",
   "execution_count": 7,
   "metadata": {},
   "outputs": [
    {
     "data": {
      "text/plain": [
       "LinearRegression(copy_X=True, fit_intercept=True, n_jobs=None,\n",
       "         normalize=False)"
      ]
     },
     "execution_count": 7,
     "metadata": {},
     "output_type": "execute_result"
    }
   ],
   "source": [
    "model = LinearRegression()  # Create a blank class instance\n",
    "model.fit(X, y)  # fit!"
   ]
  },
  {
   "cell_type": "markdown",
   "metadata": {},
   "source": [
    "### That's it. Wait, really?\n",
    "Yep. Not so bad eh?\n",
    "\n",
    "## 4. Inspect model\n",
    "This is optional as not all machine learning models are easy to interpret (e.g. neural networks). However, linear regression models are pretty intuitive, so let's look inside."
   ]
  },
  {
   "cell_type": "code",
   "execution_count": 8,
   "metadata": {},
   "outputs": [
    {
     "data": {
      "text/plain": [
       "array([-8.91219234e-04,  1.48386987e+00,  7.46772127e-03,  5.14252950e-02,\n",
       "        1.57397769e-03, -5.82453516e-04])"
      ]
     },
     "execution_count": 8,
     "metadata": {},
     "output_type": "execute_result"
    }
   ],
   "source": [
    "model.coef_  # Short for \"coefficients\"\n",
    "\n",
    "# Hmmm the output below is hard to read. In theory it's the coefficients\n",
    "# for each feature, in the order we listed those features."
   ]
  },
  {
   "cell_type": "code",
   "execution_count": 9,
   "metadata": {},
   "outputs": [
    {
     "data": {
      "text/plain": [
       "Index(['mortality_under5_per_1k', 'log_gdp_per_capita', 'gini_percent',\n",
       "       'education_expected', 'taxes_percent_gdp', 'co2_per_capita'],\n",
       "      dtype='object')"
      ]
     },
     "execution_count": 9,
     "metadata": {},
     "output_type": "execute_result"
    }
   ],
   "source": [
    "# What were our features anyway?\n",
    "X.columns"
   ]
  },
  {
   "cell_type": "code",
   "execution_count": 10,
   "metadata": {},
   "outputs": [
    {
     "name": "stdout",
     "output_type": "stream",
     "text": [
      "mortality_under5_per_1k -0.000891219233880361\n",
      "log_gdp_per_capita 1.4838698721252253\n",
      "gini_percent 0.007467721270371652\n",
      "education_expected 0.05142529499623416\n",
      "taxes_percent_gdp 0.001573977694422496\n",
      "co2_per_capita -0.0005824535159923983\n"
     ]
    }
   ],
   "source": [
    "# Q: How do we display these together so we don't have to strain our eyes?\n",
    "# A: use 'zip'\n",
    "for col, coef in zip(X.columns, model.coef_):\n",
    "    print(col, coef)\n",
    "\n",
    "# Still not perfect but better?"
   ]
  },
  {
   "cell_type": "code",
   "execution_count": 11,
   "metadata": {},
   "outputs": [
    {
     "data": {
      "text/html": [
       "<div>\n",
       "<style scoped>\n",
       "    .dataframe tbody tr th:only-of-type {\n",
       "        vertical-align: middle;\n",
       "    }\n",
       "\n",
       "    .dataframe tbody tr th {\n",
       "        vertical-align: top;\n",
       "    }\n",
       "\n",
       "    .dataframe thead th {\n",
       "        text-align: right;\n",
       "    }\n",
       "</style>\n",
       "<table border=\"1\" class=\"dataframe\">\n",
       "  <thead>\n",
       "    <tr style=\"text-align: right;\">\n",
       "      <th></th>\n",
       "      <th>feature</th>\n",
       "      <th>coefficient</th>\n",
       "    </tr>\n",
       "  </thead>\n",
       "  <tbody>\n",
       "    <tr>\n",
       "      <th>0</th>\n",
       "      <td>mortality_under5_per_1k</td>\n",
       "      <td>-0.000891</td>\n",
       "    </tr>\n",
       "    <tr>\n",
       "      <th>1</th>\n",
       "      <td>log_gdp_per_capita</td>\n",
       "      <td>1.483870</td>\n",
       "    </tr>\n",
       "    <tr>\n",
       "      <th>2</th>\n",
       "      <td>gini_percent</td>\n",
       "      <td>0.007468</td>\n",
       "    </tr>\n",
       "    <tr>\n",
       "      <th>3</th>\n",
       "      <td>education_expected</td>\n",
       "      <td>0.051425</td>\n",
       "    </tr>\n",
       "    <tr>\n",
       "      <th>4</th>\n",
       "      <td>taxes_percent_gdp</td>\n",
       "      <td>0.001574</td>\n",
       "    </tr>\n",
       "    <tr>\n",
       "      <th>5</th>\n",
       "      <td>co2_per_capita</td>\n",
       "      <td>-0.000582</td>\n",
       "    </tr>\n",
       "  </tbody>\n",
       "</table>\n",
       "</div>"
      ],
      "text/plain": [
       "                   feature  coefficient\n",
       "0  mortality_under5_per_1k    -0.000891\n",
       "1       log_gdp_per_capita     1.483870\n",
       "2             gini_percent     0.007468\n",
       "3       education_expected     0.051425\n",
       "4        taxes_percent_gdp     0.001574\n",
       "5           co2_per_capita    -0.000582"
      ]
     },
     "execution_count": 11,
     "metadata": {},
     "output_type": "execute_result"
    }
   ],
   "source": [
    "# Even better pro-tip: make a quick dataframe, using it for its\n",
    "# pretty-display purposes!\n",
    "\n",
    "# Pandas is smart and understands that you gave it a bunch of rows for a dataframe.\n",
    "pd.DataFrame(zip(X.columns, model.coef_),\n",
    "             columns=['feature', 'coefficient'])"
   ]
  },
  {
   "cell_type": "code",
   "execution_count": 12,
   "metadata": {},
   "outputs": [
    {
     "data": {
      "text/plain": [
       "-1.4698730926981964"
      ]
     },
     "execution_count": 12,
     "metadata": {},
     "output_type": "execute_result"
    }
   ],
   "source": [
    "# A linear regression model also has an intercept, stored here:\n",
    "model.intercept_"
   ]
  },
  {
   "cell_type": "markdown",
   "metadata": {},
   "source": [
    "### OK OK, so what does this _mean_?\n",
    "If you're not as familiar with linear regression, here's how you'd interpret the values above. I'm gonna generate this programmatically in case I ever change this code..."
   ]
  },
  {
   "cell_type": "code",
   "execution_count": 13,
   "metadata": {},
   "outputs": [],
   "source": [
    "def summarize_linear_model(model, target_name, feature_names):\n",
    "    # We'll round to 3 decimal places in printing here,\n",
    "    # so it's not overwhelming to read.\n",
    "    print(f\"{target_name} =\")\n",
    "    print(f\"  {model.intercept_:.3f}\")\n",
    "    for feature, coef in zip(feature_names, model.coef_):\n",
    "          print(f\"  {'+' if coef > 0 else ''}{coef:.3f} * {feature}\")"
   ]
  },
  {
   "cell_type": "code",
   "execution_count": 14,
   "metadata": {},
   "outputs": [
    {
     "name": "stdout",
     "output_type": "stream",
     "text": [
      "happiness =\n",
      "  -1.470\n",
      "  -0.001 * mortality_under5_per_1k\n",
      "  +1.484 * log_gdp_per_capita\n",
      "  +0.007 * gini_percent\n",
      "  +0.051 * education_expected\n",
      "  +0.002 * taxes_percent_gdp\n",
      "  -0.001 * co2_per_capita\n"
     ]
    }
   ],
   "source": [
    "summarize_linear_model(model, 'happiness', X.columns)"
   ]
  },
  {
   "cell_type": "markdown",
   "metadata": {},
   "source": [
    "### That's our \"model\" for national happiness!\n",
    "\n",
    "Q: What happened? Why do some highly-correlated things have tiny coefficients?\n",
    "\n",
    "Let's join this table with the raw correlations we saw earlier"
   ]
  },
  {
   "cell_type": "code",
   "execution_count": 15,
   "metadata": {},
   "outputs": [
    {
     "data": {
      "text/html": [
       "<div>\n",
       "<style scoped>\n",
       "    .dataframe tbody tr th:only-of-type {\n",
       "        vertical-align: middle;\n",
       "    }\n",
       "\n",
       "    .dataframe tbody tr th {\n",
       "        vertical-align: top;\n",
       "    }\n",
       "\n",
       "    .dataframe thead th {\n",
       "        text-align: right;\n",
       "    }\n",
       "</style>\n",
       "<table border=\"1\" class=\"dataframe\">\n",
       "  <thead>\n",
       "    <tr style=\"text-align: right;\">\n",
       "      <th></th>\n",
       "      <th>feature</th>\n",
       "      <th>coefficient</th>\n",
       "      <th>raw correlation w/ happiness</th>\n",
       "    </tr>\n",
       "  </thead>\n",
       "  <tbody>\n",
       "    <tr>\n",
       "      <th>0</th>\n",
       "      <td>mortality_under5_per_1k</td>\n",
       "      <td>-0.000891</td>\n",
       "      <td>-0.669621</td>\n",
       "    </tr>\n",
       "    <tr>\n",
       "      <th>1</th>\n",
       "      <td>log_gdp_per_capita</td>\n",
       "      <td>1.483870</td>\n",
       "      <td>0.824887</td>\n",
       "    </tr>\n",
       "    <tr>\n",
       "      <th>2</th>\n",
       "      <td>gini_percent</td>\n",
       "      <td>0.007468</td>\n",
       "      <td>-0.266532</td>\n",
       "    </tr>\n",
       "    <tr>\n",
       "      <th>3</th>\n",
       "      <td>education_expected</td>\n",
       "      <td>0.051425</td>\n",
       "      <td>0.729968</td>\n",
       "    </tr>\n",
       "    <tr>\n",
       "      <th>4</th>\n",
       "      <td>taxes_percent_gdp</td>\n",
       "      <td>0.001574</td>\n",
       "      <td>0.082620</td>\n",
       "    </tr>\n",
       "    <tr>\n",
       "      <th>5</th>\n",
       "      <td>co2_per_capita</td>\n",
       "      <td>-0.000582</td>\n",
       "      <td>0.530313</td>\n",
       "    </tr>\n",
       "  </tbody>\n",
       "</table>\n",
       "</div>"
      ],
      "text/plain": [
       "                   feature  coefficient  raw correlation w/ happiness\n",
       "0  mortality_under5_per_1k    -0.000891                     -0.669621\n",
       "1       log_gdp_per_capita     1.483870                      0.824887\n",
       "2             gini_percent     0.007468                     -0.266532\n",
       "3       education_expected     0.051425                      0.729968\n",
       "4        taxes_percent_gdp     0.001574                      0.082620\n",
       "5           co2_per_capita    -0.000582                      0.530313"
      ]
     },
     "execution_count": 15,
     "metadata": {},
     "output_type": "execute_result"
    }
   ],
   "source": [
    "pd.DataFrame(zip(X.columns, model.coef_, df.corr()['happiness'].iloc[1:]),\n",
    "             columns=['feature', 'coefficient', 'raw correlation w/ happiness'])"
   ]
  },
  {
   "cell_type": "markdown",
   "metadata": {},
   "source": [
    "### So what's going on?\n",
    "1. **Already explained by other variables** -- I would guess that GDP explains a lot of the information that you find in the gini coefficient, under 5 mortality, and co2 emissions -- they are all general progress indicators. It's amazing how much log-gdp-per-capita explains by itself!\n",
    "2. **Features are not on the same scale.** If two features are equally useful, but one ranges from 1 to 100, and another from 1 to 10, the former will have a smaller coefficient. It's beyond our scope to get into this here, but to deal with this, generally you either scale your features to all be (say) normally distributed around 0 with variance 1, or...\n",
    "3. **Who cares**. In machine learning, it's often not about the inside of the model, it just matters how well it does at its one job: predicting. In other words, don't look too close at your model's internals at all, instead focusing only on performance."
   ]
  },
  {
   "cell_type": "code",
   "execution_count": 16,
   "metadata": {},
   "outputs": [
    {
     "data": {
      "text/html": [
       "<div>\n",
       "<style scoped>\n",
       "    .dataframe tbody tr th:only-of-type {\n",
       "        vertical-align: middle;\n",
       "    }\n",
       "\n",
       "    .dataframe tbody tr th {\n",
       "        vertical-align: top;\n",
       "    }\n",
       "\n",
       "    .dataframe thead th {\n",
       "        text-align: right;\n",
       "    }\n",
       "</style>\n",
       "<table border=\"1\" class=\"dataframe\">\n",
       "  <thead>\n",
       "    <tr style=\"text-align: right;\">\n",
       "      <th></th>\n",
       "      <th>happiness</th>\n",
       "      <th>mortality_under5_per_1k</th>\n",
       "      <th>log_gdp_per_capita</th>\n",
       "      <th>gini_percent</th>\n",
       "      <th>education_expected</th>\n",
       "      <th>taxes_percent_gdp</th>\n",
       "      <th>co2_per_capita</th>\n",
       "    </tr>\n",
       "  </thead>\n",
       "  <tbody>\n",
       "    <tr>\n",
       "      <th>count</th>\n",
       "      <td>155.000000</td>\n",
       "      <td>155.000000</td>\n",
       "      <td>155.000000</td>\n",
       "      <td>155.000000</td>\n",
       "      <td>155.000000</td>\n",
       "      <td>155.000000</td>\n",
       "      <td>155.000000</td>\n",
       "    </tr>\n",
       "    <tr>\n",
       "      <th>mean</th>\n",
       "      <td>5.399927</td>\n",
       "      <td>33.996129</td>\n",
       "      <td>3.990553</td>\n",
       "      <td>38.113878</td>\n",
       "      <td>13.030619</td>\n",
       "      <td>17.026993</td>\n",
       "      <td>4.961889</td>\n",
       "    </tr>\n",
       "    <tr>\n",
       "      <th>std</th>\n",
       "      <td>1.091856</td>\n",
       "      <td>36.301409</td>\n",
       "      <td>0.525093</td>\n",
       "      <td>8.798790</td>\n",
       "      <td>2.911766</td>\n",
       "      <td>7.186127</td>\n",
       "      <td>6.545110</td>\n",
       "    </tr>\n",
       "    <tr>\n",
       "      <th>min</th>\n",
       "      <td>3.110753</td>\n",
       "      <td>2.000000</td>\n",
       "      <td>2.766692</td>\n",
       "      <td>24.820000</td>\n",
       "      <td>5.422650</td>\n",
       "      <td>0.355058</td>\n",
       "      <td>0.021909</td>\n",
       "    </tr>\n",
       "    <tr>\n",
       "      <th>25%</th>\n",
       "      <td>4.577077</td>\n",
       "      <td>6.600000</td>\n",
       "      <td>3.617469</td>\n",
       "      <td>30.891667</td>\n",
       "      <td>11.121025</td>\n",
       "      <td>13.085360</td>\n",
       "      <td>0.751811</td>\n",
       "    </tr>\n",
       "    <tr>\n",
       "      <th>50%</th>\n",
       "      <td>5.226596</td>\n",
       "      <td>16.700000</td>\n",
       "      <td>4.064794</td>\n",
       "      <td>36.030000</td>\n",
       "      <td>13.330000</td>\n",
       "      <td>15.922047</td>\n",
       "      <td>2.780995</td>\n",
       "    </tr>\n",
       "    <tr>\n",
       "      <th>75%</th>\n",
       "      <td>6.225880</td>\n",
       "      <td>51.900000</td>\n",
       "      <td>4.389362</td>\n",
       "      <td>43.415000</td>\n",
       "      <td>15.186046</td>\n",
       "      <td>20.359375</td>\n",
       "      <td>6.712342</td>\n",
       "    </tr>\n",
       "    <tr>\n",
       "      <th>max</th>\n",
       "      <td>7.719667</td>\n",
       "      <td>167.400000</td>\n",
       "      <td>5.105722</td>\n",
       "      <td>65.020000</td>\n",
       "      <td>20.221070</td>\n",
       "      <td>58.691400</td>\n",
       "      <td>43.893036</td>\n",
       "    </tr>\n",
       "  </tbody>\n",
       "</table>\n",
       "</div>"
      ],
      "text/plain": [
       "        happiness  mortality_under5_per_1k  log_gdp_per_capita  gini_percent  \\\n",
       "count  155.000000               155.000000          155.000000    155.000000   \n",
       "mean     5.399927                33.996129            3.990553     38.113878   \n",
       "std      1.091856                36.301409            0.525093      8.798790   \n",
       "min      3.110753                 2.000000            2.766692     24.820000   \n",
       "25%      4.577077                 6.600000            3.617469     30.891667   \n",
       "50%      5.226596                16.700000            4.064794     36.030000   \n",
       "75%      6.225880                51.900000            4.389362     43.415000   \n",
       "max      7.719667               167.400000            5.105722     65.020000   \n",
       "\n",
       "       education_expected  taxes_percent_gdp  co2_per_capita  \n",
       "count          155.000000         155.000000      155.000000  \n",
       "mean            13.030619          17.026993        4.961889  \n",
       "std              2.911766           7.186127        6.545110  \n",
       "min              5.422650           0.355058        0.021909  \n",
       "25%             11.121025          13.085360        0.751811  \n",
       "50%             13.330000          15.922047        2.780995  \n",
       "75%             15.186046          20.359375        6.712342  \n",
       "max             20.221070          58.691400       43.893036  "
      ]
     },
     "execution_count": 16,
     "metadata": {},
     "output_type": "execute_result"
    }
   ],
   "source": [
    "df.describe()"
   ]
  },
  {
   "cell_type": "markdown",
   "metadata": {},
   "source": [
    "### What's missing? (I'm looking at you, R/Stata users...)\n",
    "\n",
    "There are no statistical significance measures! For most scientists from other fields this is blasphemy, but two things to note.\n",
    "\n",
    "1. We haven't said anything about how \"good\" the model is yet (aka model performance). This is a big topic that we'll scratch in a second.\n",
    "1. If you need it, check out the `statsmodels` package, which is a pythonic way of doing OLS and getting the output you're used to. Sometimes for OLS-related projects I'll just do the modelling part in R anyway.\n",
    "1. Statistical significance on regression parameters doesn't tell you anything _materially_ certain. For example, \"mortality under 5\" effectively disappears from this model, even though it's clearly correlated with happiness."
   ]
  },
  {
   "cell_type": "markdown",
   "metadata": {},
   "source": [
    "## 5.1 Measure performance"
   ]
  },
  {
   "cell_type": "code",
   "execution_count": 17,
   "metadata": {},
   "outputs": [
    {
     "data": {
      "text/plain": [
       "array([3.99932945, 5.33200846, 5.67186829, 5.06309067, 6.25840221,\n",
       "       5.15671861, 6.71734185, 6.48073806, 5.64044174, 6.34006182,\n",
       "       4.38710474, 5.82812647, 6.48608043, 5.37466727, 4.17874208,\n",
       "       5.17101419, 5.14495572, 5.39433948, 5.83110745, 5.89291303,\n",
       "       5.76587362, 3.91254082, 3.50526256, 4.46017597, 4.40881774,\n",
       "       6.46197289, 3.3192478 , 4.03290315, 6.14898142, 5.50723303,\n",
       "       5.68568812, 4.24801277, 5.74350307, 5.95082225, 5.96009489,\n",
       "       6.07932264, 6.18000813, 6.59734128, 4.25814021, 5.57890902,\n",
       "       5.5823289 , 5.43622004, 5.23217497, 6.16569886, 3.81336988,\n",
       "       6.44868639, 6.397869  , 5.8010539 , 5.27433687, 6.49318022,\n",
       "       4.71696414, 6.23702062, 5.17113672, 3.73272   , 5.06272923,\n",
       "       4.17451151, 4.94541076, 6.03512832, 6.5808282 , 4.87013035,\n",
       "       5.35892817, 5.7866454 , 5.45720549, 6.65488586, 6.35908618,\n",
       "       6.37573659, 5.37029351, 6.31997491, 5.50193851, 5.97423838,\n",
       "       4.50586857, 6.77502073, 4.61198125, 4.748614  , 6.03354075,\n",
       "       5.79529287, 4.55244001, 3.61976392, 5.9349148 , 6.14313502,\n",
       "       6.82177237, 5.59638392, 3.98533575, 3.68559743, 6.00372378,\n",
       "       3.87555273, 6.1354165 , 4.35902184, 5.87849673, 5.82141433,\n",
       "       4.80783376, 5.42666286, 5.73862754, 5.14305479, 3.79830997,\n",
       "       4.76164976, 5.4496808 , 4.35084014, 6.5930187 , 6.46747683,\n",
       "       4.88542475, 3.34080943, 4.75170402, 6.78107414, 6.32747072,\n",
       "       4.5069986 , 4.86314124, 5.9502866 , 5.279446  , 5.57037045,\n",
       "       5.06492083, 6.05469735, 6.16514469, 7.02919126, 5.80292163,\n",
       "       6.07705933, 4.09312689, 6.57332261, 4.1712188 , 5.61182484,\n",
       "       3.82079323, 6.80720543, 6.07002192, 6.18991212, 5.76870597,\n",
       "       6.3411857 , 4.0167893 , 6.36997749, 5.414428  , 4.3203589 ,\n",
       "       5.7454588 , 5.10504974, 6.45132412, 6.62318556, 4.67019493,\n",
       "       4.34414757, 4.06355744, 5.67775131, 4.09570772, 6.01385429,\n",
       "       5.55072632, 5.92694773, 5.49063457, 3.98014099, 5.34161376,\n",
       "       6.47142107, 6.45691674, 6.67496572, 6.00298018, 4.85224631,\n",
       "       5.90332352, 4.91679391, 4.5634395 , 4.91264561, 4.22932566])"
      ]
     },
     "execution_count": 17,
     "metadata": {},
     "output_type": "execute_result"
    }
   ],
   "source": [
    "# To see how well our model's predictions line up\n",
    "# with the real values, let's have it make predictions!\n",
    "model.predict(X)"
   ]
  },
  {
   "cell_type": "markdown",
   "metadata": {},
   "source": [
    "### Yikes, what was that?\n",
    "Well, it was a prediction for every row in X! Let's make this more legible..."
   ]
  },
  {
   "cell_type": "code",
   "execution_count": 18,
   "metadata": {},
   "outputs": [
    {
     "data": {
      "text/html": [
       "<div>\n",
       "<style scoped>\n",
       "    .dataframe tbody tr th:only-of-type {\n",
       "        vertical-align: middle;\n",
       "    }\n",
       "\n",
       "    .dataframe tbody tr th {\n",
       "        vertical-align: top;\n",
       "    }\n",
       "\n",
       "    .dataframe thead th {\n",
       "        text-align: right;\n",
       "    }\n",
       "</style>\n",
       "<table border=\"1\" class=\"dataframe\">\n",
       "  <thead>\n",
       "    <tr style=\"text-align: right;\">\n",
       "      <th></th>\n",
       "      <th>predicted</th>\n",
       "      <th>actual</th>\n",
       "    </tr>\n",
       "    <tr>\n",
       "      <th>country</th>\n",
       "      <th></th>\n",
       "      <th></th>\n",
       "    </tr>\n",
       "  </thead>\n",
       "  <tbody>\n",
       "    <tr>\n",
       "      <th>Afghanistan</th>\n",
       "      <td>3.999329</td>\n",
       "      <td>3.898032</td>\n",
       "    </tr>\n",
       "    <tr>\n",
       "      <th>Albania</th>\n",
       "      <td>5.332008</td>\n",
       "      <td>5.092158</td>\n",
       "    </tr>\n",
       "    <tr>\n",
       "      <th>Algeria</th>\n",
       "      <td>5.671868</td>\n",
       "      <td>5.685064</td>\n",
       "    </tr>\n",
       "    <tr>\n",
       "      <th>Angola</th>\n",
       "      <td>5.063091</td>\n",
       "      <td>4.420299</td>\n",
       "    </tr>\n",
       "    <tr>\n",
       "      <th>Argentina</th>\n",
       "      <td>6.258402</td>\n",
       "      <td>6.440702</td>\n",
       "    </tr>\n",
       "  </tbody>\n",
       "</table>\n",
       "</div>"
      ],
      "text/plain": [
       "             predicted    actual\n",
       "country                         \n",
       "Afghanistan   3.999329  3.898032\n",
       "Albania       5.332008  5.092158\n",
       "Algeria       5.671868  5.685064\n",
       "Angola        5.063091  4.420299\n",
       "Argentina     6.258402  6.440702"
      ]
     },
     "execution_count": 18,
     "metadata": {},
     "output_type": "execute_result"
    }
   ],
   "source": [
    "predictions = pd.DataFrame(\n",
    "    zip(model.predict(X), y),\n",
    "    columns=['predicted', 'actual'],\n",
    "    index=df.index)\n",
    "\n",
    "predictions.head(5)"
   ]
  },
  {
   "cell_type": "code",
   "execution_count": 19,
   "metadata": {},
   "outputs": [
    {
     "data": {
      "text/plain": [
       "<matplotlib.axes._subplots.AxesSubplot at 0x124850048>"
      ]
     },
     "execution_count": 19,
     "metadata": {},
     "output_type": "execute_result"
    },
    {
     "data": {
      "image/png": "[encoded data removed]",
      "text/plain": [
       "<Figure size 432x288 with 1 Axes>"
      ]
     },
     "metadata": {
      "needs_background": "light"
     },
     "output_type": "display_data"
    }
   ],
   "source": [
    "sns.regplot('predicted', 'actual', data=predictions)"
   ]
  },
  {
   "cell_type": "markdown",
   "metadata": {},
   "source": [
    "### Looks pretty good?\n",
    "\n",
    "Yeah, but we need a _score_ of some kind. A number (or set of numbers) that summarize how good the model is.\n",
    "\n",
    "For regression problems, typically this is **mean-squared-error (MSE)**.\n",
    "\n",
    "(Mathematically this can be translated into a pearson `r` or `r²` value if you prefer.)"
   ]
  },
  {
   "cell_type": "markdown",
   "metadata": {},
   "source": [
    "#### One way to do this, by hand..."
   ]
  },
  {
   "cell_type": "code",
   "execution_count": 20,
   "metadata": {},
   "outputs": [
    {
     "data": {
      "text/html": [
       "<div>\n",
       "<style scoped>\n",
       "    .dataframe tbody tr th:only-of-type {\n",
       "        vertical-align: middle;\n",
       "    }\n",
       "\n",
       "    .dataframe tbody tr th {\n",
       "        vertical-align: top;\n",
       "    }\n",
       "\n",
       "    .dataframe thead th {\n",
       "        text-align: right;\n",
       "    }\n",
       "</style>\n",
       "<table border=\"1\" class=\"dataframe\">\n",
       "  <thead>\n",
       "    <tr style=\"text-align: right;\">\n",
       "      <th></th>\n",
       "      <th>predicted</th>\n",
       "      <th>actual</th>\n",
       "      <th>sq_error</th>\n",
       "    </tr>\n",
       "    <tr>\n",
       "      <th>country</th>\n",
       "      <th></th>\n",
       "      <th></th>\n",
       "      <th></th>\n",
       "    </tr>\n",
       "  </thead>\n",
       "  <tbody>\n",
       "    <tr>\n",
       "      <th>Afghanistan</th>\n",
       "      <td>3.999329</td>\n",
       "      <td>3.898032</td>\n",
       "      <td>0.010261</td>\n",
       "    </tr>\n",
       "    <tr>\n",
       "      <th>Albania</th>\n",
       "      <td>5.332008</td>\n",
       "      <td>5.092158</td>\n",
       "      <td>0.057528</td>\n",
       "    </tr>\n",
       "    <tr>\n",
       "      <th>Algeria</th>\n",
       "      <td>5.671868</td>\n",
       "      <td>5.685064</td>\n",
       "      <td>0.000174</td>\n",
       "    </tr>\n",
       "    <tr>\n",
       "      <th>Angola</th>\n",
       "      <td>5.063091</td>\n",
       "      <td>4.420299</td>\n",
       "      <td>0.413181</td>\n",
       "    </tr>\n",
       "    <tr>\n",
       "      <th>Argentina</th>\n",
       "      <td>6.258402</td>\n",
       "      <td>6.440702</td>\n",
       "      <td>0.033233</td>\n",
       "    </tr>\n",
       "  </tbody>\n",
       "</table>\n",
       "</div>"
      ],
      "text/plain": [
       "             predicted    actual  sq_error\n",
       "country                                   \n",
       "Afghanistan   3.999329  3.898032  0.010261\n",
       "Albania       5.332008  5.092158  0.057528\n",
       "Algeria       5.671868  5.685064  0.000174\n",
       "Angola        5.063091  4.420299  0.413181\n",
       "Argentina     6.258402  6.440702  0.033233"
      ]
     },
     "execution_count": 20,
     "metadata": {},
     "output_type": "execute_result"
    }
   ],
   "source": [
    "predictions['sq_error'] = (predictions['predicted'] - predictions['actual']) ** 2\n",
    "predictions.head()"
   ]
  },
  {
   "cell_type": "code",
   "execution_count": 21,
   "metadata": {},
   "outputs": [
    {
     "name": "stdout",
     "output_type": "stream",
     "text": [
      "0.3653226436822729\n"
     ]
    }
   ],
   "source": [
    "MSE = np.mean(predictions['sq_error'])\n",
    "print(MSE)"
   ]
  },
  {
   "cell_type": "markdown",
   "metadata": {},
   "source": [
    "#### Another way: use handy sklearn libraries, like the [metrics](https://scikit-learn.org/stable/modules/classes.html#sklearn-metrics-metrics) library.\n",
    "\n",
    "(Google or look at the docs to find them)"
   ]
  },
  {
   "cell_type": "code",
   "execution_count": 22,
   "metadata": {},
   "outputs": [],
   "source": [
    "from sklearn import metrics"
   ]
  },
  {
   "cell_type": "code",
   "execution_count": 23,
   "metadata": {},
   "outputs": [
    {
     "data": {
      "text/plain": [
       "0.3653226436822729"
      ]
     },
     "execution_count": 23,
     "metadata": {},
     "output_type": "execute_result"
    }
   ],
   "source": [
    "metrics.mean_squared_error(predictions['actual'], predictions['predicted'])"
   ]
  },
  {
   "cell_type": "markdown",
   "metadata": {},
   "source": [
    "### So we can predict happiness within about 1/3 of a point, ish.\n",
    "Q: Any problem with this?\n",
    "\n",
    "A: We are measuring our model's performance on the same data it used to fit. That is, our **training data** and our **testing data** are the same!\n",
    "\n",
    "This is inherently dishonest. Imagine studying for a math test where you knew the test questions (and answers!) in advance. How can you be sure you really learned the concepts, and didn't just memorize the answers?\n",
    "\n",
    "If you said \"I have a model that can predict the stock market perfectly, proven by showing how it predicts the past stock market perfectly.\" Would anybody believe you? Or buy it?\n",
    "\n",
    "**You need separate training and testing data**. That is, the testing data should be \"out of sample.\""
   ]
  },
  {
   "cell_type": "markdown",
   "metadata": {},
   "source": [
    "## 5.2 Measure performance more honestly with _cross-validation_\n",
    "\n",
    "Typically, you might use (say) 80% of your data for training and 20% for testing."
   ]
  },
  {
   "cell_type": "code",
   "execution_count": 24,
   "metadata": {},
   "outputs": [],
   "source": [
    "from sklearn.model_selection import train_test_split\n",
    "\n",
    "X_train, X_test, y_train, y_test = train_test_split(\n",
    "    X, y, test_size=0.2, random_state=777)"
   ]
  },
  {
   "cell_type": "markdown",
   "metadata": {},
   "source": [
    "#### Note the extra argument, `random_state=777`\n",
    "You don't normally need this.\n",
    "\n",
    "Randomization code uses an internal random number generator, which sets its initial state when Python starts, based on god-knows-what (the current time, the CPU temperature, etc). Since this is a lesson and I want my results to be replicable, I'm specifying an exact state here. You should (hopefully) now get the same results as me."
   ]
  },
  {
   "cell_type": "markdown",
   "metadata": {},
   "source": [
    "### What did this do?"
   ]
  },
  {
   "cell_type": "code",
   "execution_count": 25,
   "metadata": {},
   "outputs": [
    {
     "data": {
      "text/html": [
       "<div>\n",
       "<style scoped>\n",
       "    .dataframe tbody tr th:only-of-type {\n",
       "        vertical-align: middle;\n",
       "    }\n",
       "\n",
       "    .dataframe tbody tr th {\n",
       "        vertical-align: top;\n",
       "    }\n",
       "\n",
       "    .dataframe thead th {\n",
       "        text-align: right;\n",
       "    }\n",
       "</style>\n",
       "<table border=\"1\" class=\"dataframe\">\n",
       "  <thead>\n",
       "    <tr style=\"text-align: right;\">\n",
       "      <th></th>\n",
       "      <th>mortality_under5_per_1k</th>\n",
       "      <th>log_gdp_per_capita</th>\n",
       "      <th>gini_percent</th>\n",
       "      <th>education_expected</th>\n",
       "      <th>taxes_percent_gdp</th>\n",
       "      <th>co2_per_capita</th>\n",
       "    </tr>\n",
       "    <tr>\n",
       "      <th>country</th>\n",
       "      <th></th>\n",
       "      <th></th>\n",
       "      <th></th>\n",
       "      <th></th>\n",
       "      <th></th>\n",
       "      <th></th>\n",
       "    </tr>\n",
       "  </thead>\n",
       "  <tbody>\n",
       "    <tr>\n",
       "      <th>Russia</th>\n",
       "      <td>10.1</td>\n",
       "      <td>4.372253</td>\n",
       "      <td>39.690000</td>\n",
       "      <td>14.68839</td>\n",
       "      <td>15.055675</td>\n",
       "      <td>12.647328</td>\n",
       "    </tr>\n",
       "    <tr>\n",
       "      <th>China</th>\n",
       "      <td>12.7</td>\n",
       "      <td>4.061625</td>\n",
       "      <td>37.012075</td>\n",
       "      <td>13.07282</td>\n",
       "      <td>10.636195</td>\n",
       "      <td>6.710302</td>\n",
       "    </tr>\n",
       "    <tr>\n",
       "      <th>Senegal</th>\n",
       "      <td>55.3</td>\n",
       "      <td>3.336475</td>\n",
       "      <td>40.310000</td>\n",
       "      <td>7.94567</td>\n",
       "      <td>19.182225</td>\n",
       "      <td>0.589493</td>\n",
       "    </tr>\n",
       "    <tr>\n",
       "      <th>South Africa</th>\n",
       "      <td>43.9</td>\n",
       "      <td>4.082985</td>\n",
       "      <td>65.020000</td>\n",
       "      <td>13.55794</td>\n",
       "      <td>26.496690</td>\n",
       "      <td>9.257216</td>\n",
       "    </tr>\n",
       "    <tr>\n",
       "      <th>Belarus</th>\n",
       "      <td>4.9</td>\n",
       "      <td>4.231840</td>\n",
       "      <td>26.460000</td>\n",
       "      <td>15.66023</td>\n",
       "      <td>15.140211</td>\n",
       "      <td>6.682510</td>\n",
       "    </tr>\n",
       "  </tbody>\n",
       "</table>\n",
       "</div>"
      ],
      "text/plain": [
       "              mortality_under5_per_1k  log_gdp_per_capita  gini_percent  \\\n",
       "country                                                                   \n",
       "Russia                           10.1            4.372253     39.690000   \n",
       "China                            12.7            4.061625     37.012075   \n",
       "Senegal                          55.3            3.336475     40.310000   \n",
       "South Africa                     43.9            4.082985     65.020000   \n",
       "Belarus                           4.9            4.231840     26.460000   \n",
       "\n",
       "              education_expected  taxes_percent_gdp  co2_per_capita  \n",
       "country                                                              \n",
       "Russia                  14.68839          15.055675       12.647328  \n",
       "China                   13.07282          10.636195        6.710302  \n",
       "Senegal                  7.94567          19.182225        0.589493  \n",
       "South Africa            13.55794          26.496690        9.257216  \n",
       "Belarus                 15.66023          15.140211        6.682510  "
      ]
     },
     "execution_count": 25,
     "metadata": {},
     "output_type": "execute_result"
    }
   ],
   "source": [
    "X_train.head()"
   ]
  },
  {
   "cell_type": "code",
   "execution_count": 26,
   "metadata": {},
   "outputs": [
    {
     "data": {
      "text/html": [
       "<div>\n",
       "<style scoped>\n",
       "    .dataframe tbody tr th:only-of-type {\n",
       "        vertical-align: middle;\n",
       "    }\n",
       "\n",
       "    .dataframe tbody tr th {\n",
       "        vertical-align: top;\n",
       "    }\n",
       "\n",
       "    .dataframe thead th {\n",
       "        text-align: right;\n",
       "    }\n",
       "</style>\n",
       "<table border=\"1\" class=\"dataframe\">\n",
       "  <thead>\n",
       "    <tr style=\"text-align: right;\">\n",
       "      <th></th>\n",
       "      <th>mortality_under5_per_1k</th>\n",
       "      <th>log_gdp_per_capita</th>\n",
       "      <th>gini_percent</th>\n",
       "      <th>education_expected</th>\n",
       "      <th>taxes_percent_gdp</th>\n",
       "      <th>co2_per_capita</th>\n",
       "    </tr>\n",
       "    <tr>\n",
       "      <th>country</th>\n",
       "      <th></th>\n",
       "      <th></th>\n",
       "      <th></th>\n",
       "      <th></th>\n",
       "      <th></th>\n",
       "      <th></th>\n",
       "    </tr>\n",
       "  </thead>\n",
       "  <tbody>\n",
       "    <tr>\n",
       "      <th>Laos</th>\n",
       "      <td>71.4</td>\n",
       "      <td>3.669069</td>\n",
       "      <td>36.22</td>\n",
       "      <td>10.57806</td>\n",
       "      <td>14.832002</td>\n",
       "      <td>0.184438</td>\n",
       "    </tr>\n",
       "    <tr>\n",
       "      <th>Belgium</th>\n",
       "      <td>4.4</td>\n",
       "      <td>4.608604</td>\n",
       "      <td>33.14</td>\n",
       "      <td>16.33158</td>\n",
       "      <td>24.857085</td>\n",
       "      <td>8.849398</td>\n",
       "    </tr>\n",
       "    <tr>\n",
       "      <th>Mozambique</th>\n",
       "      <td>87.2</td>\n",
       "      <td>3.029231</td>\n",
       "      <td>45.66</td>\n",
       "      <td>9.28123</td>\n",
       "      <td>20.790495</td>\n",
       "      <td>0.133514</td>\n",
       "    </tr>\n",
       "    <tr>\n",
       "      <th>Vietnam</th>\n",
       "      <td>23.8</td>\n",
       "      <td>3.709660</td>\n",
       "      <td>35.62</td>\n",
       "      <td>11.90000</td>\n",
       "      <td>16.780546</td>\n",
       "      <td>1.971889</td>\n",
       "    </tr>\n",
       "    <tr>\n",
       "      <th>Tajikistan</th>\n",
       "      <td>47.7</td>\n",
       "      <td>3.385903</td>\n",
       "      <td>30.77</td>\n",
       "      <td>11.24404</td>\n",
       "      <td>15.559569</td>\n",
       "      <td>0.356149</td>\n",
       "    </tr>\n",
       "  </tbody>\n",
       "</table>\n",
       "</div>"
      ],
      "text/plain": [
       "            mortality_under5_per_1k  log_gdp_per_capita  gini_percent  \\\n",
       "country                                                                 \n",
       "Laos                           71.4            3.669069         36.22   \n",
       "Belgium                         4.4            4.608604         33.14   \n",
       "Mozambique                     87.2            3.029231         45.66   \n",
       "Vietnam                        23.8            3.709660         35.62   \n",
       "Tajikistan                     47.7            3.385903         30.77   \n",
       "\n",
       "            education_expected  taxes_percent_gdp  co2_per_capita  \n",
       "country                                                            \n",
       "Laos                  10.57806          14.832002        0.184438  \n",
       "Belgium               16.33158          24.857085        8.849398  \n",
       "Mozambique             9.28123          20.790495        0.133514  \n",
       "Vietnam               11.90000          16.780546        1.971889  \n",
       "Tajikistan            11.24404          15.559569        0.356149  "
      ]
     },
     "execution_count": 26,
     "metadata": {},
     "output_type": "execute_result"
    }
   ],
   "source": [
    "X_test.head()"
   ]
  },
  {
   "cell_type": "markdown",
   "metadata": {},
   "source": [
    "### Now let's fit our model on training data and measure performance on testing data"
   ]
  },
  {
   "cell_type": "code",
   "execution_count": 27,
   "metadata": {},
   "outputs": [
    {
     "name": "stdout",
     "output_type": "stream",
     "text": [
      "Cross-validated MSE: 0.515\n",
      "Non-cross-validated MSE: 0.365\n"
     ]
    }
   ],
   "source": [
    "cv_model = LinearRegression()\n",
    "cv_model.fit(X_train, y_train)\n",
    "\n",
    "predictions = cv_model.predict(X_test)  # Note we're using X_test now!\n",
    "actual = y_test\n",
    "MSE_cv = metrics.mean_squared_error(actual, predictions)\n",
    "\n",
    "print(f\"Cross-validated MSE: {MSE_cv:.3f}\")\n",
    "print(f\"Non-cross-validated MSE: {MSE:.3f}\")"
   ]
  },
  {
   "cell_type": "markdown",
   "metadata": {},
   "source": [
    "### Which model is better? Why?\n",
    "A: The non-cv model, probably because it's overfitting. It was studying with the answer key! \n",
    "\n",
    "The CV model's performance is more honest, being evaluated on data it had never seen."
   ]
  },
  {
   "cell_type": "markdown",
   "metadata": {},
   "source": [
    "### It gets worse.\n",
    "What happens if I run the EXACT SAME CODE, but with a slightly different random split?"
   ]
  },
  {
   "cell_type": "code",
   "execution_count": 28,
   "metadata": {},
   "outputs": [
    {
     "name": "stdout",
     "output_type": "stream",
     "text": [
      "Cross-validated MSE: 0.217\n",
      "Non-cross-validated MSE: 0.365\n"
     ]
    }
   ],
   "source": [
    "# Change random_state from 777 to 55\n",
    "X_train, X_test, y_train, y_test = train_test_split(\n",
    "    X, y, test_size=0.2, random_state=55)\n",
    "\n",
    "# Note: It's bad that I'm copy/pasting the nearly-exact-same code here.\n",
    "# I should really pull all this out into a function, to adhere to\n",
    "# the coding maxim of \"Don't Repeat Yourself\" (DRY)\n",
    "\n",
    "cv_model = LinearRegression()\n",
    "cv_model.fit(X_train, y_train)\n",
    "\n",
    "predictions = cv_model.predict(X_test)  # Note we're using X_test now!\n",
    "actual = y_test\n",
    "MSE_cv = metrics.mean_squared_error(actual, predictions)\n",
    "\n",
    "print(f\"Cross-validated MSE: {MSE_cv:.3f}\")\n",
    "print(f\"Non-cross-validated MSE: {MSE:.3f}\")"
   ]
  },
  {
   "cell_type": "markdown",
   "metadata": {},
   "source": [
    "### Whoa! The CV model is now *better*?!?\n",
    "\n",
    "Q: What happened?\n",
    "\n",
    "A: Our model performance can change a lot based on the random split!\n",
    "\n",
    "* This is especially true for small datasets like this.\n",
    "* What do we do?"
   ]
  },
  {
   "cell_type": "markdown",
   "metadata": {},
   "source": [
    "## 5.3 K-fold cross-validation\n",
    "\n",
    "The simple answer: do this random split/train/test thing a bunch of times!"
   ]
  },
  {
   "cell_type": "code",
   "execution_count": 29,
   "metadata": {},
   "outputs": [],
   "source": [
    "# OK FINE I'LL MAKE A FUNCTION\n",
    "\n",
    "def fit_once(X, y):\n",
    "    # Don't set random_state -- we'll get a fresh split every time.\n",
    "    X_train, X_test, y_train, y_test = train_test_split(\n",
    "        X, y, test_size=0.2)\n",
    "\n",
    "    cv_model = LinearRegression()\n",
    "    cv_model.fit(X_train, y_train)\n",
    "\n",
    "    predictions = cv_model.predict(X_test)  # Note we're using X_test now!\n",
    "    actual = y_test\n",
    "    mse = metrics.mean_squared_error(actual, predictions)\n",
    "    return mse"
   ]
  },
  {
   "cell_type": "code",
   "execution_count": 30,
   "metadata": {},
   "outputs": [
    {
     "name": "stdout",
     "output_type": "stream",
     "text": [
      "Overall mean: 0.40389616779494386\n"
     ]
    }
   ],
   "source": [
    "N_FOLDS = 1000\n",
    "\n",
    "fold_results = []\n",
    "for i in range(N_FOLDS):\n",
    "    mse = fit_once(X, y)\n",
    "    fold_results.append(mse)\n",
    "\n",
    "## Advanced: this line does the same thing as the four lines above:\n",
    "# fold_results = [fit_once(X, y) for i in range(N_FOLDS)]\n",
    "## (Google \"python list comprehensions\" later at home).\n",
    "\n",
    "overall_mean = np.mean(fold_results)\n",
    "print(\"Overall mean:\", overall_mean)"
   ]
  },
  {
   "cell_type": "code",
   "execution_count": 31,
   "metadata": {},
   "outputs": [
    {
     "name": "stdout",
     "output_type": "stream",
     "text": [
      "In  65% of random train-test splits, the cross-validated MSE is worse than the in-sample MSE.\n"
     ]
    },
    {
     "data": {
      "image/png": "[encoded data removed]",
      "text/plain": [
       "<Figure size 432x288 with 1 Axes>"
      ]
     },
     "metadata": {
      "needs_background": "light"
     },
     "output_type": "display_data"
    }
   ],
   "source": [
    "graph = sns.distplot(fold_results)\n",
    "graph.set_title(f\"Mean over {N_FOLDS} splits: {overall_mean:.3f}\")\n",
    "\n",
    "# Let's draw a line on the graph for our MSE when we trained and\n",
    "# tested on the same data.\n",
    "graph.plot([MSE, MSE], [0, graph.get_ylim()[1]], linestyle='--', label='In-sample MSE')\n",
    "graph.legend()\n",
    "\n",
    "print(f\"In {(np.mean(fold_results > MSE) * 100): .0f}% of random train-test splits, the cross-validated MSE is worse than the in-sample MSE.\")"
   ]
  },
  {
   "cell_type": "markdown",
   "metadata": {},
   "source": [
    "### What's the lesson?\n",
    "* **Cross-validation produces honest estimates of model performance**\n",
    "* K-fold cross validation is more reliable, smoothing out lucky/unlucky train-test splits."
   ]
  },
  {
   "cell_type": "markdown",
   "metadata": {},
   "source": [
    "## 6. [As time allows] Model ~~twerking~~ tweaking\n",
    "\n",
    "What happens if we add a new feature (say, [internet adoption](https://www.aquare.la/en/how-vortx-big-data-organises-the-world/))? Remove an old feature? Take the log of a feature? Multiply two features??\n",
    "\n",
    "Slow down, one thing at a time.\n",
    "\n",
    "Let's try removing GDP altogether. How much does this hurt our model?"
   ]
  },
  {
   "cell_type": "code",
   "execution_count": 32,
   "metadata": {},
   "outputs": [
    {
     "data": {
      "text/html": [
       "<div>\n",
       "<style scoped>\n",
       "    .dataframe tbody tr th:only-of-type {\n",
       "        vertical-align: middle;\n",
       "    }\n",
       "\n",
       "    .dataframe tbody tr th {\n",
       "        vertical-align: top;\n",
       "    }\n",
       "\n",
       "    .dataframe thead th {\n",
       "        text-align: right;\n",
       "    }\n",
       "</style>\n",
       "<table border=\"1\" class=\"dataframe\">\n",
       "  <thead>\n",
       "    <tr style=\"text-align: right;\">\n",
       "      <th></th>\n",
       "      <th>happiness</th>\n",
       "      <th>mortality_under5_per_1k</th>\n",
       "      <th>gini_percent</th>\n",
       "      <th>education_expected</th>\n",
       "      <th>taxes_percent_gdp</th>\n",
       "      <th>co2_per_capita</th>\n",
       "    </tr>\n",
       "    <tr>\n",
       "      <th>country</th>\n",
       "      <th></th>\n",
       "      <th></th>\n",
       "      <th></th>\n",
       "      <th></th>\n",
       "      <th></th>\n",
       "      <th></th>\n",
       "    </tr>\n",
       "  </thead>\n",
       "  <tbody>\n",
       "    <tr>\n",
       "      <th>Afghanistan</th>\n",
       "      <td>3.898032</td>\n",
       "      <td>97.3</td>\n",
       "      <td>27.820000</td>\n",
       "      <td>9.27439</td>\n",
       "      <td>7.471639</td>\n",
       "      <td>0.420933</td>\n",
       "    </tr>\n",
       "    <tr>\n",
       "      <th>Albania</th>\n",
       "      <td>5.092158</td>\n",
       "      <td>14.9</td>\n",
       "      <td>28.960000</td>\n",
       "      <td>11.82000</td>\n",
       "      <td>19.630699</td>\n",
       "      <td>1.607038</td>\n",
       "    </tr>\n",
       "    <tr>\n",
       "      <th>Algeria</th>\n",
       "      <td>5.685064</td>\n",
       "      <td>25.2</td>\n",
       "      <td>38.816667</td>\n",
       "      <td>13.96534</td>\n",
       "      <td>37.361849</td>\n",
       "      <td>3.224202</td>\n",
       "    </tr>\n",
       "    <tr>\n",
       "      <th>Angola</th>\n",
       "      <td>4.420299</td>\n",
       "      <td>167.4</td>\n",
       "      <td>42.660000</td>\n",
       "      <td>11.39000</td>\n",
       "      <td>18.836676</td>\n",
       "      <td>1.472216</td>\n",
       "    </tr>\n",
       "    <tr>\n",
       "      <th>Argentina</th>\n",
       "      <td>6.440702</td>\n",
       "      <td>13.3</td>\n",
       "      <td>43.570000</td>\n",
       "      <td>17.94733</td>\n",
       "      <td>14.483361</td>\n",
       "      <td>4.665869</td>\n",
       "    </tr>\n",
       "  </tbody>\n",
       "</table>\n",
       "</div>"
      ],
      "text/plain": [
       "             happiness  mortality_under5_per_1k  gini_percent  \\\n",
       "country                                                         \n",
       "Afghanistan   3.898032                     97.3     27.820000   \n",
       "Albania       5.092158                     14.9     28.960000   \n",
       "Algeria       5.685064                     25.2     38.816667   \n",
       "Angola        4.420299                    167.4     42.660000   \n",
       "Argentina     6.440702                     13.3     43.570000   \n",
       "\n",
       "             education_expected  taxes_percent_gdp  co2_per_capita  \n",
       "country                                                             \n",
       "Afghanistan             9.27439           7.471639        0.420933  \n",
       "Albania                11.82000          19.630699        1.607038  \n",
       "Algeria                13.96534          37.361849        3.224202  \n",
       "Angola                 11.39000          18.836676        1.472216  \n",
       "Argentina              17.94733          14.483361        4.665869  "
      ]
     },
     "execution_count": 32,
     "metadata": {},
     "output_type": "execute_result"
    }
   ],
   "source": [
    "without_gdp = df.drop(columns='log_gdp_per_capita')\n",
    "without_gdp.head()  # Always check head() to be sure your data looks right"
   ]
  },
  {
   "cell_type": "markdown",
   "metadata": {},
   "source": [
    "### Yes, again I'm copy/pasting code below, which is bad.\n",
    "\n",
    "Generally, I let myself be a little lazy in the early stages, but:\n",
    "1. Before I publish my work, I always refactor to use clean functions.\n",
    "2. Even as I'm doing my work, if I copy/paste something *more than once*, I take the time to make a proper function.\n"
   ]
  },
  {
   "cell_type": "code",
   "execution_count": 33,
   "metadata": {},
   "outputs": [
    {
     "name": "stdout",
     "output_type": "stream",
     "text": [
      "Overall mean: 0.5180314708431838\n"
     ]
    }
   ],
   "source": [
    "X = without_gdp.drop(columns='happiness')\n",
    "y = without_gdp['happiness']\n",
    "\n",
    "N_FOLDS = 1000\n",
    "\n",
    "fold_results = []\n",
    "for i in range(N_FOLDS):\n",
    "    mse = fit_once(X, y)\n",
    "    fold_results.append(mse)\n",
    "\n",
    "mean_with_gdp = overall_mean\n",
    "overall_mean = np.mean(fold_results)\n",
    "print(\"Overall mean:\", overall_mean)"
   ]
  },
  {
   "cell_type": "code",
   "execution_count": 34,
   "metadata": {},
   "outputs": [
    {
     "data": {
      "text/plain": [
       "<matplotlib.legend.Legend at 0x128b63e10>"
      ]
     },
     "execution_count": 34,
     "metadata": {},
     "output_type": "execute_result"
    },
    {
     "data": {
      "image/png": "[encoded data removed]",
      "text/plain": [
       "<Figure size 432x288 with 1 Axes>"
      ]
     },
     "metadata": {
      "needs_background": "light"
     },
     "output_type": "display_data"
    }
   ],
   "source": [
    "graph = sns.distplot(fold_results)\n",
    "graph.set_title(f\"Mean over {N_FOLDS} splits, without GDP: {overall_mean:.3f}\")\n",
    "\n",
    "graph.plot([mean_with_gdp, mean_with_gdp],\n",
    "           [0, graph.get_ylim()[1]], linestyle='--', label='MSE with GDP')\n",
    "graph.legend()"
   ]
  },
  {
   "cell_type": "markdown",
   "metadata": {},
   "source": [
    "### This is \"model comparison\"\n",
    "Clearly we can't remove GDP without a big performance hit. In this same fashion, we can try a lot of things to try to make the model better, simpler, or both.\n",
    "\n",
    "### What if we drop everything *except* GDP and education?"
   ]
  },
  {
   "cell_type": "code",
   "execution_count": 35,
   "metadata": {},
   "outputs": [
    {
     "name": "stdout",
     "output_type": "stream",
     "text": [
      "Overall mean: 0.38720511138560804\n"
     ]
    }
   ],
   "source": [
    "# Shut up already about copy/pasting code\n",
    "\n",
    "X = df[['log_gdp_per_capita', 'education_expected']]\n",
    "y = df['happiness']\n",
    "\n",
    "N_FOLDS = 1000\n",
    "\n",
    "fold_results = []\n",
    "for i in range(N_FOLDS):\n",
    "    mse = fit_once(X, y)\n",
    "    fold_results.append(mse)\n",
    "\n",
    "overall_mean = np.mean(fold_results)\n",
    "print(\"Overall mean:\", overall_mean)"
   ]
  },
  {
   "cell_type": "markdown",
   "metadata": {},
   "source": [
    "### Our model got simpler _and_ better! How?\n",
    "A: Removing extraneous features helped prevent overfitting on our small dataset"
   ]
  },
  {
   "cell_type": "markdown",
   "metadata": {},
   "source": [
    "## 7. [As time allows] Other algorithms"
   ]
  },
  {
   "cell_type": "code",
   "execution_count": 36,
   "metadata": {},
   "outputs": [],
   "source": [
    "# Let's reset our X and y to use the full dataset\n",
    "X = df.drop(columns='happiness')\n",
    "y = df['happiness']"
   ]
  },
  {
   "cell_type": "markdown",
   "metadata": {},
   "source": [
    "Remember this code? For fitting a Linear Regression model?"
   ]
  },
  {
   "cell_type": "code",
   "execution_count": 37,
   "metadata": {},
   "outputs": [
    {
     "data": {
      "text/plain": [
       "LinearRegression(copy_X=True, fit_intercept=True, n_jobs=None,\n",
       "         normalize=False)"
      ]
     },
     "execution_count": 37,
     "metadata": {},
     "output_type": "execute_result"
    }
   ],
   "source": [
    "model = LinearRegression()  # Create a blank class instance\n",
    "model.fit(X, y)  # fit!"
   ]
  },
  {
   "cell_type": "markdown",
   "metadata": {},
   "source": [
    "#### Fitting other models is just as easy!\n",
    "\n",
    "Here's a random forest (usually used for classification, not regression, but anyway...)"
   ]
  },
  {
   "cell_type": "code",
   "execution_count": 38,
   "metadata": {},
   "outputs": [
    {
     "name": "stderr",
     "output_type": "stream",
     "text": [
      "/usr/local/lib/python3.7/site-packages/sklearn/ensemble/forest.py:246: FutureWarning: The default value of n_estimators will change from 10 in version 0.20 to 100 in 0.22.\n",
      "  \"10 in version 0.20 to 100 in 0.22.\", FutureWarning)\n"
     ]
    },
    {
     "data": {
      "text/plain": [
       "RandomForestRegressor(bootstrap=True, criterion='mse', max_depth=None,\n",
       "           max_features='auto', max_leaf_nodes=None,\n",
       "           min_impurity_decrease=0.0, min_impurity_split=None,\n",
       "           min_samples_leaf=1, min_samples_split=2,\n",
       "           min_weight_fraction_leaf=0.0, n_estimators=10, n_jobs=None,\n",
       "           oob_score=False, random_state=None, verbose=0, warm_start=False)"
      ]
     },
     "execution_count": 38,
     "metadata": {},
     "output_type": "execute_result"
    }
   ],
   "source": [
    "from sklearn.ensemble import RandomForestRegressor\n",
    "\n",
    "model = RandomForestRegressor()\n",
    "model.fit(X, y)"
   ]
  },
  {
   "cell_type": "markdown",
   "metadata": {},
   "source": [
    "#### Let's redo our fitting function to make it more general"
   ]
  },
  {
   "cell_type": "code",
   "execution_count": 39,
   "metadata": {},
   "outputs": [],
   "source": [
    "def fit_one_forest(X, y, trees=10):\n",
    "    X_train, X_test, y_train, y_test = train_test_split(\n",
    "        X, y, test_size=0.2)\n",
    "    # The number of trees in the forest is a \"hyperparameter\" --\n",
    "    # it affects how the algorithm runs. We can also tweak this\n",
    "    # number to find the best value.\n",
    "    model = RandomForestRegressor(n_estimators=trees)\n",
    "    model.fit(X_train, y_train)\n",
    "    return metrics.mean_squared_error(y_test, model.predict(X_test))"
   ]
  },
  {
   "cell_type": "code",
   "execution_count": 40,
   "metadata": {},
   "outputs": [],
   "source": [
    "N_FOLDS = 1000\n",
    "\n",
    "rf_results = []\n",
    "for i in range(N_FOLDS):\n",
    "    mse = fit_one_forest(X, y)\n",
    "    rf_results.append(mse)"
   ]
  },
  {
   "cell_type": "code",
   "execution_count": 41,
   "metadata": {},
   "outputs": [
    {
     "name": "stdout",
     "output_type": "stream",
     "text": [
      "Overall mean: 0.3121963347967775\n"
     ]
    },
    {
     "data": {
      "text/plain": [
       "count    1000.000000\n",
       "mean        0.312196\n",
       "std         0.081296\n",
       "min         0.116253\n",
       "25%         0.254563\n",
       "50%         0.304466\n",
       "75%         0.356773\n",
       "max         0.630314\n",
       "dtype: float64"
      ]
     },
     "execution_count": 41,
     "metadata": {},
     "output_type": "execute_result"
    }
   ],
   "source": [
    "overall_mean = np.mean(rf_results)\n",
    "print(\"Overall mean:\", overall_mean)\n",
    "\n",
    "pd.Series(rf_results).describe()"
   ]
  },
  {
   "cell_type": "code",
   "execution_count": 42,
   "metadata": {},
   "outputs": [
    {
     "data": {
      "text/plain": [
       "Text(0.5,1,'Random Forest: mean over 1000 splits: 0.312')"
      ]
     },
     "execution_count": 42,
     "metadata": {},
     "output_type": "execute_result"
    },
    {
     "data": {
      "image/png": "[encoded data removed]",
      "text/plain": [
       "<Figure size 432x288 with 1 Axes>"
      ]
     },
     "metadata": {
      "needs_background": "light"
     },
     "output_type": "display_data"
    }
   ],
   "source": [
    "graph = sns.distplot(rf_results)\n",
    "graph.set_title(f\"Random Forest: mean over {N_FOLDS} splits: {overall_mean:.3f}\")"
   ]
  },
  {
   "cell_type": "markdown",
   "metadata": {},
   "source": [
    "### 8.2 Hyperparameters\n",
    "#### Should we have used 10 trees? 100? ONE MILLION???\n",
    "Let's search for the best value!"
   ]
  },
  {
   "cell_type": "code",
   "execution_count": 43,
   "metadata": {},
   "outputs": [],
   "source": [
    "def fit_and_score(X, y, trees, n_folds):\n",
    "    results = []\n",
    "    for i in range(n_folds):\n",
    "        results.append(fit_one_forest(X, y, trees=trees))\n",
    "    return np.mean(results)"
   ]
  },
  {
   "cell_type": "code",
   "execution_count": 44,
   "metadata": {},
   "outputs": [
    {
     "name": "stdout",
     "output_type": "stream",
     "text": [
      "1 0.5251746081588204\n",
      "5 0.32339807843634605\n",
      "10 0.3137937626878872\n",
      "25 0.2963285547928383\n",
      "100 0.2903772591572758\n",
      "200 0.29277928695480676\n"
     ]
    }
   ],
   "source": [
    "# Let's just do 100 folds because fitting forests\n",
    "# with lots of trees can be sloooowww\n",
    "N_FOLDS = 100\n",
    "TREE_COUNTS = [1, 5, 10, 25, 100, 200]\n",
    "\n",
    "results = []\n",
    "for trees in TREE_COUNTS:\n",
    "    score = fit_and_score(X, y, trees, N_FOLDS)\n",
    "    results.append(score)\n",
    "    print(trees, score)"
   ]
  },
  {
   "cell_type": "code",
   "execution_count": 45,
   "metadata": {},
   "outputs": [
    {
     "data": {
      "text/html": [
       "<div>\n",
       "<style scoped>\n",
       "    .dataframe tbody tr th:only-of-type {\n",
       "        vertical-align: middle;\n",
       "    }\n",
       "\n",
       "    .dataframe tbody tr th {\n",
       "        vertical-align: top;\n",
       "    }\n",
       "\n",
       "    .dataframe thead th {\n",
       "        text-align: right;\n",
       "    }\n",
       "</style>\n",
       "<table border=\"1\" class=\"dataframe\">\n",
       "  <thead>\n",
       "    <tr style=\"text-align: right;\">\n",
       "      <th></th>\n",
       "      <th>MSE</th>\n",
       "    </tr>\n",
       "    <tr>\n",
       "      <th>trees</th>\n",
       "      <th></th>\n",
       "    </tr>\n",
       "  </thead>\n",
       "  <tbody>\n",
       "    <tr>\n",
       "      <th>1</th>\n",
       "      <td>0.525175</td>\n",
       "    </tr>\n",
       "    <tr>\n",
       "      <th>5</th>\n",
       "      <td>0.323398</td>\n",
       "    </tr>\n",
       "    <tr>\n",
       "      <th>10</th>\n",
       "      <td>0.313794</td>\n",
       "    </tr>\n",
       "    <tr>\n",
       "      <th>25</th>\n",
       "      <td>0.296329</td>\n",
       "    </tr>\n",
       "    <tr>\n",
       "      <th>100</th>\n",
       "      <td>0.290377</td>\n",
       "    </tr>\n",
       "    <tr>\n",
       "      <th>200</th>\n",
       "      <td>0.292779</td>\n",
       "    </tr>\n",
       "  </tbody>\n",
       "</table>\n",
       "</div>"
      ],
      "text/plain": [
       "            MSE\n",
       "trees          \n",
       "1      0.525175\n",
       "5      0.323398\n",
       "10     0.313794\n",
       "25     0.296329\n",
       "100    0.290377\n",
       "200    0.292779"
      ]
     },
     "execution_count": 45,
     "metadata": {},
     "output_type": "execute_result"
    }
   ],
   "source": [
    "trees_df = pd.DataFrame(zip(TREE_COUNTS, results), columns=['trees', 'MSE'])\n",
    "trees_df.set_index('trees', inplace=True)\n",
    "trees_df"
   ]
  },
  {
   "cell_type": "code",
   "execution_count": 46,
   "metadata": {},
   "outputs": [
    {
     "data": {
      "text/plain": [
       "Text(0.5,1,'MSE as a function of the number of RF trees')"
      ]
     },
     "execution_count": 46,
     "metadata": {},
     "output_type": "execute_result"
    },
    {
     "data": {
      "image/png": "[encoded data removed]",
      "text/plain": [
       "<Figure size 432x288 with 1 Axes>"
      ]
     },
     "metadata": {
      "needs_background": "light"
     },
     "output_type": "display_data"
    }
   ],
   "source": [
    "graph = trees_df['MSE'].plot()\n",
    "graph.set_ylim(0, graph.get_ylim()[1])\n",
    "graph.set_title('MSE as a function of the number of RF trees')"
   ]
  },
  {
   "cell_type": "markdown",
   "metadata": {},
   "source": [
    "### It's beyond our scope to explain the innards of all machine learning models.\n",
    "If ML is new to you, you can find lots of great resources online (I'll mention the [scikit-learn docs](https://scikit-learn.org/stable/documentation.html) for a third time now), or through the division of data sciences here at Cal."
   ]
  },
  {
   "cell_type": "markdown",
   "metadata": {},
   "source": [
    "## 8. [As time allows] Going pro: turn the honesty up to 11\n",
    "### In all of this, _we are still cheating_. How?\n",
    "A: We are doing this tweak-measure-tweak-measure thing using all the same data. In advertently we may be overfitting by beating the test set to death. We also used all the data (where we saw the strong correlations of gdp and education with happiness) to inform our choice of features, letting the test information \"creep\" into our training. Bad form!\n",
    "\n",
    "### What to do? Take out a final, pristine, untouchable \"holdout\" set _before you even begin exploring your data_ (long before modelling)\n",
    "\n",
    "We've already broken this rule and can't un-see what we've seen. We used information from the complete dataset to build our intuitions and our model.\n",
    "\n",
    "If we could go back in time, we should do it like this:\n",
    "1. Do basic cleaning only (reformat/rename columns, fix typos, etc)\n",
    "1. Save a random (say) 20% of the rows to a separate, clean file, e.g. `data/holdout.csv`\n",
    "1. Save the rest to a file for model building, e.g. `data/holdin.csv`\n",
    "1. Go through exploring and model building (as in this file) with the `holdin` dataset only. Once you've decided on your final \"best\" model, and pinky-swear to not change anything, load in the holdout data and fit/predict/score your model on it. This score is guaranteed to be an unbiased estimate of your model's performance. You can use the variance of your prior cross-validation as a reasonable estimate of the standard error on this estimate."
   ]
  },
  {
   "cell_type": "markdown",
   "metadata": {},
   "source": [
    "## Whew, that was a lot! Thanks for sticking with it!"
   ]
  },
  {
   "cell_type": "code",
   "execution_count": null,
   "metadata": {},
   "outputs": [],
   "source": []
  }
 ],
 "metadata": {
  "kernelspec": {
   "display_name": "Python 3",
   "language": "python",
   "name": "python3"
  },
  "language_info": {
   "codemirror_mode": {
    "name": "ipython",
    "version": 3
   },
   "file_extension": ".py",
   "mimetype": "text/x-python",
   "name": "python",
   "nbconvert_exporter": "python",
   "pygments_lexer": "ipython3",
   "version": "3.7.3"
  }
 },
 "nbformat": 4,
 "nbformat_minor": 2
}
