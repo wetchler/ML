{
 "cells": [
  {
   "cell_type": "markdown",
   "metadata": {},
   "source": [
    "# Machine Learning Tutorial\n",
    "- GDSO pre-workshop, July 2019\n",
    "- Instructor: [Everett Wetchler](https://github.com/wetchler)"
   ]
  },
  {
   "cell_type": "markdown",
   "metadata": {},
   "source": [
    "## Predicting country-level happiness from development indicators\n",
    "\n",
    "Datasets:\n",
    "1. Country-level happiness data\n",
    "  * Reusing from [Wednesday's tutorial](https://github.com/wetchler/pandas), which comes from Gallup via Our World in Data [here](https://ourworldindata.org/happiness-and-life-satisfaction)\n",
    "  * `data/happiness.csv`\n",
    "1. Development indicators for each country (gdp, mortality, education, etc), measured roughly around 2014\n",
    "  * From [this Kaggle dataset](https://www.kaggle.com/joniarroba/65-world-indexes-gathered)\n",
    "  * `data/world_indicators.csv`\n",
    "  * NOTE: in a serious research project we wouldn't use the data from Kaggle, we'd get to the original sources' publications.\n",
    "\n",
    "To keep this tutorial focused, I've pre-cleaned and merged these for you\n",
    "  * **The final file is `data/merged.csv`**\n",
    "  * See `data_cleaning.ipynb` for the code that produced this. A good second practice exercise in pandas!"
   ]
  },
  {
   "cell_type": "markdown",
   "metadata": {},
   "source": [
    "## 0. Import all your stuff"
   ]
  },
  {
   "cell_type": "code",
   "execution_count": null,
   "metadata": {},
   "outputs": [],
   "source": [
    "%matplotlib inline"
   ]
  },
  {
   "cell_type": "code",
   "execution_count": null,
   "metadata": {},
   "outputs": [],
   "source": [
    "# Import the usual suspects in the usual way\n",
    "import matplotlib.pyplot as plt\n",
    "import numpy as np\n",
    "import pandas as pd\n",
    "import seaborn as sns"
   ]
  },
  {
   "cell_type": "markdown",
   "metadata": {},
   "source": [
    "## 1. Load your data"
   ]
  },
  {
   "cell_type": "code",
   "execution_count": null,
   "metadata": {},
   "outputs": [],
   "source": [
    "df = pd.read_csv('data/merged.csv', index_col='country')  # Note the index_col argument...\n",
    "print(df.shape)\n",
    "df.head()"
   ]
  },
  {
   "cell_type": "markdown",
   "metadata": {},
   "source": [
    "### Let's go!"
   ]
  },
  {
   "cell_type": "code",
   "execution_count": null,
   "metadata": {},
   "outputs": [],
   "source": []
  }
 ],
 "metadata": {
  "kernelspec": {
   "display_name": "Python 3",
   "language": "python",
   "name": "python3"
  },
  "language_info": {
   "codemirror_mode": {
    "name": "ipython",
    "version": 3
   },
   "file_extension": ".py",
   "mimetype": "text/x-python",
   "name": "python",
   "nbconvert_exporter": "python",
   "pygments_lexer": "ipython3",
   "version": "3.7.3"
  }
 },
 "nbformat": 4,
 "nbformat_minor": 2
}
